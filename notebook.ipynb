{
 "cells": [
  {
   "cell_type": "markdown",
   "id": "3f40476b",
   "metadata": {},
   "source": [
    "# Saved States Overview"
   ]
  },
  {
   "cell_type": "markdown",
   "id": "6e4d2880",
   "metadata": {},
   "source": [
    "## View turn pickles"
   ]
  },
  {
   "cell_type": "code",
   "execution_count": null,
   "id": "b2f0510e",
   "metadata": {},
   "outputs": [
    {
     "ename": "ModuleNotFoundError",
     "evalue": "No module named 'core'",
     "output_type": "error",
     "traceback": [
      "\u001b[31m---------------------------------------------------------------------------\u001b[39m",
      "\u001b[31mModuleNotFoundError\u001b[39m                       Traceback (most recent call last)",
      "\u001b[36mCell\u001b[39m\u001b[36m \u001b[39m\u001b[32mIn[1]\u001b[39m\u001b[32m, line 1\u001b[39m\n\u001b[32m----> \u001b[39m\u001b[32m1\u001b[39m \u001b[38;5;28;01mfrom\u001b[39;00m\u001b[38;5;250m \u001b[39m\u001b[34;01mcore\u001b[39;00m\u001b[38;5;250m \u001b[39m\u001b[38;5;28;01mimport\u001b[39;00m game\n\u001b[32m      3\u001b[39m \u001b[38;5;66;03m# save_dir = \"saves/ai_battles/ai_battle_028\"\u001b[39;00m\n\u001b[32m      4\u001b[39m save_dir = \u001b[33m\"\u001b[39m\u001b[33msaves/llama3.2_1b_single/llama3.2_1b_single/round_013\u001b[39m\u001b[33m\"\u001b[39m\n",
      "\u001b[31mModuleNotFoundError\u001b[39m: No module named 'core'"
     ]
    }
   ],
   "source": [
    "from aquawar import game\n",
    "\n",
    "# save_dir = \"saves/ai_battles/ai_battle_028\"\n",
    "save_dir = \"saves/llama3.2_1b_single/llama3.2_1b_single/round_013\""
   ]
  },
  {
   "cell_type": "code",
   "execution_count": null,
   "id": "88db68f3",
   "metadata": {},
   "outputs": [],
   "source": []
  },
  {
   "cell_type": "code",
   "execution_count": 23,
   "id": "69cc480a",
   "metadata": {},
   "outputs": [
    {
     "name": "stdout",
     "output_type": "stream",
     "text": [
      "Found pkl files: ['turn_005.pkl', 'turn_000.pkl', 'latest.pkl', 'turn_006.pkl', 'turn_007.pkl', 'turn_003.pkl']\n"
     ]
    }
   ],
   "source": [
    "import os\n",
    "pkl_files = []\n",
    "for file in os.listdir(save_dir):\n",
    "    if file.endswith(\".pkl\"):\n",
    "        pkl_files.append(file)\n",
    "\n",
    "print(\"Found pkl files:\", pkl_files)"
   ]
  },
  {
   "cell_type": "code",
   "execution_count": null,
   "id": "b9efbc9c",
   "metadata": {},
   "outputs": [
    {
     "ename": "FileNotFoundError",
     "evalue": "[Errno 2] No such file or directory: 'saves/llama3.1_8b_single/gpt-oss_20b_single/round_006/v1_011.pkl'",
     "output_type": "error",
     "traceback": [
      "\u001b[31m---------------------------------------------------------------------------\u001b[39m",
      "\u001b[31mFileNotFoundError\u001b[39m                         Traceback (most recent call last)",
      "\u001b[36mCell\u001b[39m\u001b[36m \u001b[39m\u001b[32mIn[1]\u001b[39m\u001b[32m, line 11\u001b[39m\n\u001b[32m      8\u001b[39m select_files = [\u001b[33m'\u001b[39m\u001b[33msaves/llama3.1_8b_single/gpt-oss_20b_single/round_006/v1_011.pkl\u001b[39m\u001b[33m'\u001b[39m]\n\u001b[32m     10\u001b[39m \u001b[38;5;28;01mfor\u001b[39;00m file \u001b[38;5;129;01min\u001b[39;00m select_files:\n\u001b[32m---> \u001b[39m\u001b[32m11\u001b[39m     \u001b[38;5;28;01mwith\u001b[39;00m \u001b[38;5;28;43mopen\u001b[39;49m\u001b[43m(\u001b[49m\u001b[43mos\u001b[49m\u001b[43m.\u001b[49m\u001b[43mpath\u001b[49m\u001b[43m.\u001b[49m\u001b[43mjoin\u001b[49m\u001b[43m(\u001b[49m\u001b[43msave_dir\u001b[49m\u001b[43m,\u001b[49m\u001b[43m \u001b[49m\u001b[43mfile\u001b[49m\u001b[43m)\u001b[49m\u001b[43m,\u001b[49m\u001b[43m \u001b[49m\u001b[33;43m\"\u001b[39;49m\u001b[33;43mrb\u001b[39;49m\u001b[33;43m\"\u001b[39;49m\u001b[43m)\u001b[49m \u001b[38;5;28;01mas\u001b[39;00m f:\n\u001b[32m     12\u001b[39m         state = pickle.load(f)\n\u001b[32m     13\u001b[39m         \u001b[38;5;28mprint\u001b[39m(\u001b[33mf\u001b[39m\u001b[33m\"\u001b[39m\u001b[33m=== Loaded state from \u001b[39m\u001b[38;5;132;01m{\u001b[39;00mfile\u001b[38;5;132;01m}\u001b[39;00m\u001b[33m: ===\u001b[39m\u001b[33m\"\u001b[39m)\n",
      "\u001b[36mFile \u001b[39m\u001b[32m~/anaconda3/envs/aquawar/lib/python3.13/site-packages/IPython/core/interactiveshell.py:343\u001b[39m, in \u001b[36m_modified_open\u001b[39m\u001b[34m(file, *args, **kwargs)\u001b[39m\n\u001b[32m    336\u001b[39m \u001b[38;5;28;01mif\u001b[39;00m file \u001b[38;5;129;01min\u001b[39;00m {\u001b[32m0\u001b[39m, \u001b[32m1\u001b[39m, \u001b[32m2\u001b[39m}:\n\u001b[32m    337\u001b[39m     \u001b[38;5;28;01mraise\u001b[39;00m \u001b[38;5;167;01mValueError\u001b[39;00m(\n\u001b[32m    338\u001b[39m         \u001b[33mf\u001b[39m\u001b[33m\"\u001b[39m\u001b[33mIPython won\u001b[39m\u001b[33m'\u001b[39m\u001b[33mt let you open fd=\u001b[39m\u001b[38;5;132;01m{\u001b[39;00mfile\u001b[38;5;132;01m}\u001b[39;00m\u001b[33m by default \u001b[39m\u001b[33m\"\u001b[39m\n\u001b[32m    339\u001b[39m         \u001b[33m\"\u001b[39m\u001b[33mas it is likely to crash IPython. If you know what you are doing, \u001b[39m\u001b[33m\"\u001b[39m\n\u001b[32m    340\u001b[39m         \u001b[33m\"\u001b[39m\u001b[33myou can use builtins\u001b[39m\u001b[33m'\u001b[39m\u001b[33m open.\u001b[39m\u001b[33m\"\u001b[39m\n\u001b[32m    341\u001b[39m     )\n\u001b[32m--> \u001b[39m\u001b[32m343\u001b[39m \u001b[38;5;28;01mreturn\u001b[39;00m \u001b[43mio_open\u001b[49m\u001b[43m(\u001b[49m\u001b[43mfile\u001b[49m\u001b[43m,\u001b[49m\u001b[43m \u001b[49m\u001b[43m*\u001b[49m\u001b[43margs\u001b[49m\u001b[43m,\u001b[49m\u001b[43m \u001b[49m\u001b[43m*\u001b[49m\u001b[43m*\u001b[49m\u001b[43mkwargs\u001b[49m\u001b[43m)\u001b[49m\n",
      "\u001b[31mFileNotFoundError\u001b[39m: [Errno 2] No such file or directory: 'saves/llama3.1_8b_single/gpt-oss_20b_single/round_006/v1_011.pkl'"
     ]
    }
   ],
   "source": [
    "import pickle\n",
    "import json\n",
    "import os\n",
    "# select_files = pkl_files.copy()\n",
    "# select_files = [\"turn_002.pkl\"]\n",
    "save_dir = \"\"\n",
    "select_files = ['good_save/latest.pkl']\n",
    "select_files = ['saves/llama3_1_8b_majority/llama3.1_8b_single/round_001/v2_001.pkl']\n",
    "\n",
    "for file in select_files:\n",
    "    with open(os.path.join(save_dir, file), \"rb\") as f:\n",
    "        state = pickle.load(f)\n",
    "        print(f\"=== Loaded state from {file}: ===\")\n",
    "        print(f\"Keys:\")\n",
    "        for k, v in state.items():\n",
    "            if type(v) is dict:\n",
    "                print(f\"  {k}: {[f'{kk}: {type(vv).__name__}' for kk, vv in v.items()]} | {len(v)} items\")\n",
    "            elif type(v) is list and len(v) > 0 and type(v[-1]) is dict:\n",
    "                print(f\"  {k}: list({[f'{kk}: {type(vv).__name__}' for kk, vv in v[-1].items()]}) | {len(v)} items\")\n",
    "        print(json.dumps(state, indent=2))\n"
   ]
  },
  {
   "cell_type": "markdown",
   "id": "11805a4d",
   "metadata": {},
   "source": [
    "## Voter pickles"
   ]
  },
  {
   "cell_type": "code",
   "execution_count": 8,
   "id": "ab5e5565",
   "metadata": {},
   "outputs": [
    {
     "name": "stdout",
     "output_type": "stream",
     "text": [
      "Turn file keys: dict_keys(['state', 'history', 'evaluation', 'players'])\n",
      "Voter file keys: dict_keys(['state', 'history', 'evaluation', 'players'])\n",
      "Game turn: 10 10\n",
      "History length: 10 10\n",
      "Evaluation: {'players': {'1': {'current_hp': 880, 'damage_dealt': 150, 'damage_taken': 800, 'assertions': {'true': 0, 'false': 2, 'skipped': 0}, 'invalid_moves': {'total': 0, 'by_type': {'invalid_response': 0, 'invalid_parameter': 0, 'invalid_action': 0}}}, '2': {'current_hp': 1250, 'damage_dealt': 320, 'damage_taken': 400, 'assertions': {'true': 1, 'false': 1, 'skipped': 0}, 'invalid_moves': {'total': 0, 'by_type': {'invalid_response': 0, 'invalid_parameter': 0, 'invalid_action': 0}}}}, 'game_status': 'ongoing'} {'players': {'1': {'current_hp': 880, 'damage_dealt': 270, 'damage_taken': 800, 'assertions': {'true': 0, 'false': 2, 'skipped': 0}, 'invalid_moves': {'total': 0, 'by_type': {'invalid_response': 0, 'invalid_parameter': 0, 'invalid_action': 0}}}, '2': {'current_hp': 1130, 'damage_dealt': 320, 'damage_taken': 400, 'assertions': {'true': 1, 'false': 1, 'skipped': 0}, 'invalid_moves': {'total': 0, 'by_type': {'invalid_response': 0, 'invalid_parameter': 0, 'invalid_action': 0}}}}, 'game_status': 'ongoing'}\n"
     ]
    }
   ],
   "source": [
    "from aquawar.persistent import PersistentGameManager\n",
    "from aquawar.ai.ollama_majority import OllamaVoter\n",
    "from aquawar.ai.ollama_player import OllamaPlayer\n",
    "import pickle\n",
    "\n",
    "# 1. Load a mid-game turn file\n",
    "pm = PersistentGameManager('saves')\n",
    "game = pm.load_game_state('llama3.1_8b_single', 'gpt-oss_20b_single', round_num=6, turn=10)\n",
    "\n",
    "# 2. Set up a voter\n",
    "voter = OllamaVoter(voter_index=1, name='Voter1', model='llama3.1:8b')\n",
    "other_player = OllamaPlayer(name='OtherPlayer', model='gpt-oss:20b')\n",
    "voter._other_player = other_player\n",
    "voter.set_game_context(game, player_index=0)\n",
    "\n",
    "# 3. Run a voter move (simulate 'action' phase)\n",
    "history_entry, result, context = voter.make_voter_move(\n",
    "    phase='action',\n",
    "    save_dir='saves',\n",
    "    round_num=6\n",
    ")\n",
    "\n",
    "# 4. Load and compare files\n",
    "turn_path = 'saves/llama3.1_8b_single/gpt-oss_20b_single/round_006/turn_010.pkl'\n",
    "voter_path = 'saves/llama3.1_8b_single/gpt-oss_20b_single/round_006/v1_011.pkl'\n",
    "\n",
    "with open(turn_path, 'rb') as f:\n",
    "    turn_data = pickle.load(f)\n",
    "with open(voter_path, 'rb') as f:\n",
    "    voter_data = pickle.load(f)\n",
    "\n",
    "# Compare keys and structure\n",
    "print('Turn file keys:', turn_data.keys())\n",
    "print('Voter file keys:', voter_data.keys())\n",
    "print('Game turn:', turn_data['state']['game_turn'], voter_data['state']['game_turn'])\n",
    "print('History length:', len(turn_data['history']), len(voter_data['history']))\n",
    "print('Evaluation:', turn_data['evaluation'], voter_data['evaluation'])"
   ]
  },
  {
   "cell_type": "markdown",
   "id": "f3cf5118",
   "metadata": {},
   "source": [
    "# Inference testing"
   ]
  },
  {
   "cell_type": "code",
   "execution_count": 13,
   "id": "eb436294",
   "metadata": {},
   "outputs": [
    {
     "ename": "KeyboardInterrupt",
     "evalue": "",
     "output_type": "error",
     "traceback": [
      "\u001b[31m---------------------------------------------------------------------------\u001b[39m",
      "\u001b[31mKeyboardInterrupt\u001b[39m                         Traceback (most recent call last)",
      "\u001b[36mCell\u001b[39m\u001b[36m \u001b[39m\u001b[32mIn[13]\u001b[39m\u001b[32m, line 1\u001b[39m\n\u001b[32m----> \u001b[39m\u001b[32m1\u001b[39m \u001b[38;5;28;01mfrom\u001b[39;00m\u001b[38;5;250m \u001b[39m\u001b[34;01mlangchain_ollama\u001b[39;00m\u001b[38;5;250m \u001b[39m\u001b[38;5;28;01mimport\u001b[39;00m ChatOllama\n\u001b[32m      2\u001b[39m model = \u001b[33m\"\u001b[39m\u001b[33mgpt-oss:20b\u001b[39m\u001b[33m\"\u001b[39m\n\u001b[32m      3\u001b[39m temperature = \u001b[32m0.1\u001b[39m\n",
      "\u001b[36mFile \u001b[39m\u001b[32m~/anaconda3/envs/aquawar/lib/python3.13/site-packages/langchain_ollama/__init__.py:17\u001b[39m\n\u001b[32m      1\u001b[39m \u001b[33;03m\"\"\"This is the langchain_ollama package.\u001b[39;00m\n\u001b[32m      2\u001b[39m \n\u001b[32m      3\u001b[39m \u001b[33;03mProvides infrastructure for interacting with the `Ollama <https://ollama.com/>`__\u001b[39;00m\n\u001b[32m   (...)\u001b[39m\u001b[32m     12\u001b[39m \u001b[33;03m    pre-downloaded.\u001b[39;00m\n\u001b[32m     13\u001b[39m \u001b[33;03m\"\"\"\u001b[39;00m\n\u001b[32m     15\u001b[39m \u001b[38;5;28;01mfrom\u001b[39;00m\u001b[38;5;250m \u001b[39m\u001b[34;01mimportlib\u001b[39;00m\u001b[38;5;250m \u001b[39m\u001b[38;5;28;01mimport\u001b[39;00m metadata\n\u001b[32m---> \u001b[39m\u001b[32m17\u001b[39m \u001b[38;5;28;01mfrom\u001b[39;00m\u001b[38;5;250m \u001b[39m\u001b[34;01mlangchain_ollama\u001b[39;00m\u001b[34;01m.\u001b[39;00m\u001b[34;01mchat_models\u001b[39;00m\u001b[38;5;250m \u001b[39m\u001b[38;5;28;01mimport\u001b[39;00m ChatOllama\n\u001b[32m     18\u001b[39m \u001b[38;5;28;01mfrom\u001b[39;00m\u001b[38;5;250m \u001b[39m\u001b[34;01mlangchain_ollama\u001b[39;00m\u001b[34;01m.\u001b[39;00m\u001b[34;01membeddings\u001b[39;00m\u001b[38;5;250m \u001b[39m\u001b[38;5;28;01mimport\u001b[39;00m OllamaEmbeddings\n\u001b[32m     19\u001b[39m \u001b[38;5;28;01mfrom\u001b[39;00m\u001b[38;5;250m \u001b[39m\u001b[34;01mlangchain_ollama\u001b[39;00m\u001b[34;01m.\u001b[39;00m\u001b[34;01mllms\u001b[39;00m\u001b[38;5;250m \u001b[39m\u001b[38;5;28;01mimport\u001b[39;00m OllamaLLM\n",
      "\u001b[36mFile \u001b[39m\u001b[32m~/anaconda3/envs/aquawar/lib/python3.13/site-packages/langchain_ollama/chat_models.py:20\u001b[39m\n\u001b[32m     10\u001b[39m \u001b[38;5;28;01mfrom\u001b[39;00m\u001b[38;5;250m \u001b[39m\u001b[34;01mtyping\u001b[39;00m\u001b[38;5;250m \u001b[39m\u001b[38;5;28;01mimport\u001b[39;00m (\n\u001b[32m     11\u001b[39m     Any,\n\u001b[32m     12\u001b[39m     Callable,\n\u001b[32m   (...)\u001b[39m\u001b[32m     16\u001b[39m     cast,\n\u001b[32m     17\u001b[39m )\n\u001b[32m     18\u001b[39m \u001b[38;5;28;01mfrom\u001b[39;00m\u001b[38;5;250m \u001b[39m\u001b[34;01muuid\u001b[39;00m\u001b[38;5;250m \u001b[39m\u001b[38;5;28;01mimport\u001b[39;00m uuid4\n\u001b[32m---> \u001b[39m\u001b[32m20\u001b[39m \u001b[38;5;28;01mfrom\u001b[39;00m\u001b[38;5;250m \u001b[39m\u001b[34;01mlangchain_core\u001b[39;00m\u001b[34;01m.\u001b[39;00m\u001b[34;01mcallbacks\u001b[39;00m\u001b[38;5;250m \u001b[39m\u001b[38;5;28;01mimport\u001b[39;00m (\n\u001b[32m     21\u001b[39m     CallbackManagerForLLMRun,\n\u001b[32m     22\u001b[39m )\n\u001b[32m     23\u001b[39m \u001b[38;5;28;01mfrom\u001b[39;00m\u001b[38;5;250m \u001b[39m\u001b[34;01mlangchain_core\u001b[39;00m\u001b[34;01m.\u001b[39;00m\u001b[34;01mcallbacks\u001b[39;00m\u001b[34;01m.\u001b[39;00m\u001b[34;01mmanager\u001b[39;00m\u001b[38;5;250m \u001b[39m\u001b[38;5;28;01mimport\u001b[39;00m AsyncCallbackManagerForLLMRun\n\u001b[32m     24\u001b[39m \u001b[38;5;28;01mfrom\u001b[39;00m\u001b[38;5;250m \u001b[39m\u001b[34;01mlangchain_core\u001b[39;00m\u001b[34;01m.\u001b[39;00m\u001b[34;01mexceptions\u001b[39;00m\u001b[38;5;250m \u001b[39m\u001b[38;5;28;01mimport\u001b[39;00m OutputParserException\n",
      "\u001b[36mFile \u001b[39m\u001b[32m<frozen importlib._bootstrap>:1412\u001b[39m, in \u001b[36m_handle_fromlist\u001b[39m\u001b[34m(module, fromlist, import_, recursive)\u001b[39m\n",
      "\u001b[36mFile \u001b[39m\u001b[32m~/anaconda3/envs/aquawar/lib/python3.13/site-packages/langchain_core/callbacks/__init__.py:133\u001b[39m, in \u001b[36m__getattr__\u001b[39m\u001b[34m(attr_name)\u001b[39m\n\u001b[32m    131\u001b[39m \u001b[38;5;28;01mdef\u001b[39;00m\u001b[38;5;250m \u001b[39m\u001b[34m__getattr__\u001b[39m(attr_name: \u001b[38;5;28mstr\u001b[39m) -> \u001b[38;5;28mobject\u001b[39m:\n\u001b[32m    132\u001b[39m     module_name = _dynamic_imports.get(attr_name)\n\u001b[32m--> \u001b[39m\u001b[32m133\u001b[39m     result = \u001b[43mimport_attr\u001b[49m\u001b[43m(\u001b[49m\u001b[43mattr_name\u001b[49m\u001b[43m,\u001b[49m\u001b[43m \u001b[49m\u001b[43mmodule_name\u001b[49m\u001b[43m,\u001b[49m\u001b[43m \u001b[49m\u001b[43m__spec__\u001b[49m\u001b[43m.\u001b[49m\u001b[43mparent\u001b[49m\u001b[43m)\u001b[49m\n\u001b[32m    134\u001b[39m     \u001b[38;5;28mglobals\u001b[39m()[attr_name] = result\n\u001b[32m    135\u001b[39m     \u001b[38;5;28;01mreturn\u001b[39;00m result\n",
      "\u001b[36mFile \u001b[39m\u001b[32m~/anaconda3/envs/aquawar/lib/python3.13/site-packages/langchain_core/_import_utils.py:29\u001b[39m, in \u001b[36mimport_attr\u001b[39m\u001b[34m(attr_name, module_name, package)\u001b[39m\n\u001b[32m     27\u001b[39m \u001b[38;5;28;01melse\u001b[39;00m:\n\u001b[32m     28\u001b[39m     \u001b[38;5;28;01mtry\u001b[39;00m:\n\u001b[32m---> \u001b[39m\u001b[32m29\u001b[39m         module = \u001b[43mimport_module\u001b[49m\u001b[43m(\u001b[49m\u001b[33;43mf\u001b[39;49m\u001b[33;43m\"\u001b[39;49m\u001b[33;43m.\u001b[39;49m\u001b[38;5;132;43;01m{\u001b[39;49;00m\u001b[43mmodule_name\u001b[49m\u001b[38;5;132;43;01m}\u001b[39;49;00m\u001b[33;43m\"\u001b[39;49m\u001b[43m,\u001b[49m\u001b[43m \u001b[49m\u001b[43mpackage\u001b[49m\u001b[43m=\u001b[49m\u001b[43mpackage\u001b[49m\u001b[43m)\u001b[49m\n\u001b[32m     30\u001b[39m     \u001b[38;5;28;01mexcept\u001b[39;00m \u001b[38;5;167;01mModuleNotFoundError\u001b[39;00m \u001b[38;5;28;01mas\u001b[39;00m err:\n\u001b[32m     31\u001b[39m         msg = \u001b[33mf\u001b[39m\u001b[33m\"\u001b[39m\u001b[33mmodule \u001b[39m\u001b[33m'\u001b[39m\u001b[38;5;132;01m{\u001b[39;00mpackage\u001b[38;5;132;01m!r}\u001b[39;00m\u001b[33m.\u001b[39m\u001b[38;5;132;01m{\u001b[39;00mmodule_name\u001b[38;5;132;01m!r}\u001b[39;00m\u001b[33m'\u001b[39m\u001b[33m not found (\u001b[39m\u001b[38;5;132;01m{\u001b[39;00merr\u001b[38;5;132;01m}\u001b[39;00m\u001b[33m)\u001b[39m\u001b[33m\"\u001b[39m\n",
      "\u001b[36mFile \u001b[39m\u001b[32m~/anaconda3/envs/aquawar/lib/python3.13/importlib/__init__.py:88\u001b[39m, in \u001b[36mimport_module\u001b[39m\u001b[34m(name, package)\u001b[39m\n\u001b[32m     86\u001b[39m             \u001b[38;5;28;01mbreak\u001b[39;00m\n\u001b[32m     87\u001b[39m         level += \u001b[32m1\u001b[39m\n\u001b[32m---> \u001b[39m\u001b[32m88\u001b[39m \u001b[38;5;28;01mreturn\u001b[39;00m \u001b[43m_bootstrap\u001b[49m\u001b[43m.\u001b[49m\u001b[43m_gcd_import\u001b[49m\u001b[43m(\u001b[49m\u001b[43mname\u001b[49m\u001b[43m[\u001b[49m\u001b[43mlevel\u001b[49m\u001b[43m:\u001b[49m\u001b[43m]\u001b[49m\u001b[43m,\u001b[49m\u001b[43m \u001b[49m\u001b[43mpackage\u001b[49m\u001b[43m,\u001b[49m\u001b[43m \u001b[49m\u001b[43mlevel\u001b[49m\u001b[43m)\u001b[49m\n",
      "\u001b[36mFile \u001b[39m\u001b[32m~/anaconda3/envs/aquawar/lib/python3.13/site-packages/langchain_core/callbacks/manager.py:25\u001b[39m\n\u001b[32m     14\u001b[39m \u001b[38;5;28;01mfrom\u001b[39;00m\u001b[38;5;250m \u001b[39m\u001b[34;01mtyping\u001b[39;00m\u001b[38;5;250m \u001b[39m\u001b[38;5;28;01mimport\u001b[39;00m (\n\u001b[32m     15\u001b[39m     TYPE_CHECKING,\n\u001b[32m     16\u001b[39m     Any,\n\u001b[32m   (...)\u001b[39m\u001b[32m     21\u001b[39m     cast,\n\u001b[32m     22\u001b[39m )\n\u001b[32m     23\u001b[39m \u001b[38;5;28;01mfrom\u001b[39;00m\u001b[38;5;250m \u001b[39m\u001b[34;01muuid\u001b[39;00m\u001b[38;5;250m \u001b[39m\u001b[38;5;28;01mimport\u001b[39;00m UUID\n\u001b[32m---> \u001b[39m\u001b[32m25\u001b[39m \u001b[38;5;28;01mfrom\u001b[39;00m\u001b[38;5;250m \u001b[39m\u001b[34;01mlangsmith\u001b[39;00m\u001b[34;01m.\u001b[39;00m\u001b[34;01mrun_helpers\u001b[39;00m\u001b[38;5;250m \u001b[39m\u001b[38;5;28;01mimport\u001b[39;00m get_tracing_context\n\u001b[32m     26\u001b[39m \u001b[38;5;28;01mfrom\u001b[39;00m\u001b[38;5;250m \u001b[39m\u001b[34;01mtyping_extensions\u001b[39;00m\u001b[38;5;250m \u001b[39m\u001b[38;5;28;01mimport\u001b[39;00m Self, override\n\u001b[32m     28\u001b[39m \u001b[38;5;28;01mfrom\u001b[39;00m\u001b[38;5;250m \u001b[39m\u001b[34;01mlangchain_core\u001b[39;00m\u001b[34;01m.\u001b[39;00m\u001b[34;01mcallbacks\u001b[39;00m\u001b[34;01m.\u001b[39;00m\u001b[34;01mbase\u001b[39;00m\u001b[38;5;250m \u001b[39m\u001b[38;5;28;01mimport\u001b[39;00m (\n\u001b[32m     29\u001b[39m     BaseCallbackHandler,\n\u001b[32m     30\u001b[39m     BaseCallbackManager,\n\u001b[32m   (...)\u001b[39m\u001b[32m     36\u001b[39m     ToolManagerMixin,\n\u001b[32m     37\u001b[39m )\n",
      "\u001b[36mFile \u001b[39m\u001b[32m~/anaconda3/envs/aquawar/lib/python3.13/site-packages/langsmith/run_helpers.py:43\u001b[39m\n\u001b[32m     24\u001b[39m \u001b[38;5;28;01mfrom\u001b[39;00m\u001b[38;5;250m \u001b[39m\u001b[34;01mtyping\u001b[39;00m\u001b[38;5;250m \u001b[39m\u001b[38;5;28;01mimport\u001b[39;00m (\n\u001b[32m     25\u001b[39m     TYPE_CHECKING,\n\u001b[32m     26\u001b[39m     Annotated,\n\u001b[32m   (...)\u001b[39m\u001b[32m     38\u001b[39m     runtime_checkable,\n\u001b[32m     39\u001b[39m )\n\u001b[32m     41\u001b[39m \u001b[38;5;28;01mfrom\u001b[39;00m\u001b[38;5;250m \u001b[39m\u001b[34;01mtyping_extensions\u001b[39;00m\u001b[38;5;250m \u001b[39m\u001b[38;5;28;01mimport\u001b[39;00m ParamSpec, TypeGuard, get_args, get_origin\n\u001b[32m---> \u001b[39m\u001b[32m43\u001b[39m \u001b[38;5;28;01mfrom\u001b[39;00m\u001b[38;5;250m \u001b[39m\u001b[34;01mlangsmith\u001b[39;00m\u001b[38;5;250m \u001b[39m\u001b[38;5;28;01mimport\u001b[39;00m client \u001b[38;5;28;01mas\u001b[39;00m ls_client\n\u001b[32m     44\u001b[39m \u001b[38;5;28;01mfrom\u001b[39;00m\u001b[38;5;250m \u001b[39m\u001b[34;01mlangsmith\u001b[39;00m\u001b[38;5;250m \u001b[39m\u001b[38;5;28;01mimport\u001b[39;00m run_trees, schemas, utils\n\u001b[32m     45\u001b[39m \u001b[38;5;28;01mfrom\u001b[39;00m\u001b[38;5;250m \u001b[39m\u001b[34;01mlangsmith\u001b[39;00m\u001b[34;01m.\u001b[39;00m\u001b[34;01m_internal\u001b[39;00m\u001b[38;5;250m \u001b[39m\u001b[38;5;28;01mimport\u001b[39;00m _aiter \u001b[38;5;28;01mas\u001b[39;00m aitertools\n",
      "\u001b[36mFile \u001b[39m\u001b[32m~/anaconda3/envs/aquawar/lib/python3.13/site-packages/langsmith/client.py:51\u001b[39m\n\u001b[32m     40\u001b[39m \u001b[38;5;28;01mfrom\u001b[39;00m\u001b[38;5;250m \u001b[39m\u001b[34;01mtyping\u001b[39;00m\u001b[38;5;250m \u001b[39m\u001b[38;5;28;01mimport\u001b[39;00m (\n\u001b[32m     41\u001b[39m     TYPE_CHECKING,\n\u001b[32m     42\u001b[39m     Any,\n\u001b[32m   (...)\u001b[39m\u001b[32m     47\u001b[39m     cast,\n\u001b[32m     48\u001b[39m )\n\u001b[32m     49\u001b[39m \u001b[38;5;28;01mfrom\u001b[39;00m\u001b[38;5;250m \u001b[39m\u001b[34;01murllib\u001b[39;00m\u001b[38;5;250m \u001b[39m\u001b[38;5;28;01mimport\u001b[39;00m parse \u001b[38;5;28;01mas\u001b[39;00m urllib_parse\n\u001b[32m---> \u001b[39m\u001b[32m51\u001b[39m \u001b[38;5;28;01mimport\u001b[39;00m\u001b[38;5;250m \u001b[39m\u001b[34;01mrequests\u001b[39;00m\n\u001b[32m     52\u001b[39m \u001b[38;5;28;01mfrom\u001b[39;00m\u001b[38;5;250m \u001b[39m\u001b[34;01mrequests\u001b[39;00m\u001b[38;5;250m \u001b[39m\u001b[38;5;28;01mimport\u001b[39;00m adapters \u001b[38;5;28;01mas\u001b[39;00m requests_adapters\n\u001b[32m     53\u001b[39m \u001b[38;5;28;01mfrom\u001b[39;00m\u001b[38;5;250m \u001b[39m\u001b[34;01mrequests_toolbelt\u001b[39;00m\u001b[38;5;250m \u001b[39m\u001b[38;5;28;01mimport\u001b[39;00m (  \u001b[38;5;66;03m# type: ignore[import-untyped]\u001b[39;00m\n\u001b[32m     54\u001b[39m     multipart \u001b[38;5;28;01mas\u001b[39;00m rqtb_multipart,\n\u001b[32m     55\u001b[39m )\n",
      "\u001b[36mFile \u001b[39m\u001b[32m~/anaconda3/envs/aquawar/lib/python3.13/site-packages/requests/__init__.py:151\u001b[39m\n\u001b[32m    148\u001b[39m \u001b[38;5;28;01mimport\u001b[39;00m\u001b[38;5;250m \u001b[39m\u001b[34;01mlogging\u001b[39;00m\n\u001b[32m    149\u001b[39m \u001b[38;5;28;01mfrom\u001b[39;00m\u001b[38;5;250m \u001b[39m\u001b[34;01mlogging\u001b[39;00m\u001b[38;5;250m \u001b[39m\u001b[38;5;28;01mimport\u001b[39;00m NullHandler\n\u001b[32m--> \u001b[39m\u001b[32m151\u001b[39m \u001b[38;5;28;01mfrom\u001b[39;00m\u001b[38;5;250m \u001b[39m\u001b[34;01m.\u001b[39;00m\u001b[38;5;250m \u001b[39m\u001b[38;5;28;01mimport\u001b[39;00m packages, utils\n\u001b[32m    152\u001b[39m \u001b[38;5;28;01mfrom\u001b[39;00m\u001b[38;5;250m \u001b[39m\u001b[34;01m.\u001b[39;00m\u001b[34;01m__version__\u001b[39;00m\u001b[38;5;250m \u001b[39m\u001b[38;5;28;01mimport\u001b[39;00m (\n\u001b[32m    153\u001b[39m     __author__,\n\u001b[32m    154\u001b[39m     __author_email__,\n\u001b[32m   (...)\u001b[39m\u001b[32m    162\u001b[39m     __version__,\n\u001b[32m    163\u001b[39m )\n\u001b[32m    164\u001b[39m \u001b[38;5;28;01mfrom\u001b[39;00m\u001b[38;5;250m \u001b[39m\u001b[34;01m.\u001b[39;00m\u001b[34;01mapi\u001b[39;00m\u001b[38;5;250m \u001b[39m\u001b[38;5;28;01mimport\u001b[39;00m delete, get, head, options, patch, post, put, request\n",
      "\u001b[36mFile \u001b[39m\u001b[32m~/anaconda3/envs/aquawar/lib/python3.13/site-packages/requests/utils.py:60\u001b[39m\n\u001b[32m     53\u001b[39m \u001b[38;5;28;01mfrom\u001b[39;00m\u001b[38;5;250m \u001b[39m\u001b[34;01m.\u001b[39;00m\u001b[34;01mcookies\u001b[39;00m\u001b[38;5;250m \u001b[39m\u001b[38;5;28;01mimport\u001b[39;00m cookiejar_from_dict\n\u001b[32m     54\u001b[39m \u001b[38;5;28;01mfrom\u001b[39;00m\u001b[38;5;250m \u001b[39m\u001b[34;01m.\u001b[39;00m\u001b[34;01mexceptions\u001b[39;00m\u001b[38;5;250m \u001b[39m\u001b[38;5;28;01mimport\u001b[39;00m (\n\u001b[32m     55\u001b[39m     FileModeWarning,\n\u001b[32m     56\u001b[39m     InvalidHeader,\n\u001b[32m     57\u001b[39m     InvalidURL,\n\u001b[32m     58\u001b[39m     UnrewindableBodyError,\n\u001b[32m     59\u001b[39m )\n\u001b[32m---> \u001b[39m\u001b[32m60\u001b[39m \u001b[38;5;28;01mfrom\u001b[39;00m\u001b[38;5;250m \u001b[39m\u001b[34;01m.\u001b[39;00m\u001b[34;01mstructures\u001b[39;00m\u001b[38;5;250m \u001b[39m\u001b[38;5;28;01mimport\u001b[39;00m CaseInsensitiveDict\n\u001b[32m     62\u001b[39m NETRC_FILES = (\u001b[33m\"\u001b[39m\u001b[33m.netrc\u001b[39m\u001b[33m\"\u001b[39m, \u001b[33m\"\u001b[39m\u001b[33m_netrc\u001b[39m\u001b[33m\"\u001b[39m)\n\u001b[32m     64\u001b[39m DEFAULT_CA_BUNDLE_PATH = certs.where()\n",
      "\u001b[36mFile \u001b[39m\u001b[32m<frozen importlib._bootstrap>:1360\u001b[39m, in \u001b[36m_find_and_load\u001b[39m\u001b[34m(name, import_)\u001b[39m\n",
      "\u001b[36mFile \u001b[39m\u001b[32m<frozen importlib._bootstrap>:1331\u001b[39m, in \u001b[36m_find_and_load_unlocked\u001b[39m\u001b[34m(name, import_)\u001b[39m\n",
      "\u001b[36mFile \u001b[39m\u001b[32m<frozen importlib._bootstrap>:921\u001b[39m, in \u001b[36m_load_unlocked\u001b[39m\u001b[34m(spec)\u001b[39m\n",
      "\u001b[36mFile \u001b[39m\u001b[32m<frozen importlib._bootstrap>:819\u001b[39m, in \u001b[36mmodule_from_spec\u001b[39m\u001b[34m(spec)\u001b[39m\n",
      "\u001b[36mFile \u001b[39m\u001b[32m<frozen importlib._bootstrap>:733\u001b[39m, in \u001b[36m_init_module_attrs\u001b[39m\u001b[34m(spec, module, override)\u001b[39m\n",
      "\u001b[31mKeyboardInterrupt\u001b[39m: "
     ]
    }
   ],
   "source": [
    "from langchain_ollama import ChatOllama\n",
    "model = \"gpt-oss:20b\"\n",
    "temperature = 0.1\n",
    "top_p = 0.9\n",
    "\n",
    "llm = ChatOllama(\n",
    "    model=model,\n",
    "    temperature=temperature,\n",
    "    top_p=top_p,\n",
    ")\n",
    "response = llm.invoke(\"What is the capital of France?\")\n",
    "print(\"LLM response:\", response)"
   ]
  },
  {
   "cell_type": "code",
   "execution_count": 40,
   "id": "0709db04",
   "metadata": {},
   "outputs": [
    {
     "name": "stdout",
     "output_type": "stream",
     "text": [
      "{\n",
      "  \"content\": \"The capital of France is **Paris**.\",\n",
      "  \"additional_kwargs\": {},\n",
      "  \"response_metadata\": {\n",
      "    \"model\": \"gpt-oss:20b\",\n",
      "    \"created_at\": \"2025-08-15T18:18:15.029567396Z\",\n",
      "    \"done\": true,\n",
      "    \"done_reason\": \"stop\",\n",
      "    \"total_duration\": 90705936382,\n",
      "    \"load_duration\": 89579361336,\n",
      "    \"prompt_eval_count\": 74,\n",
      "    \"prompt_eval_duration\": 577526484,\n",
      "    \"eval_count\": 40,\n",
      "    \"eval_duration\": 548376871,\n",
      "    \"model_name\": \"gpt-oss:20b\"\n",
      "  },\n",
      "  \"type\": \"ai\",\n",
      "  \"name\": null,\n",
      "  \"id\": \"run--f33e3fa7-0680-4afc-9776-3f3a5d116d0e-0\",\n",
      "  \"example\": false,\n",
      "  \"tool_calls\": [],\n",
      "  \"invalid_tool_calls\": [],\n",
      "  \"usage_metadata\": {\n",
      "    \"input_tokens\": 74,\n",
      "    \"output_tokens\": 40,\n",
      "    \"total_tokens\": 114\n",
      "  }\n",
      "}\n"
     ]
    }
   ],
   "source": [
    "import json\n",
    "res_json = json.loads(response.model_dump_json())\n",
    "print(json.dumps(res_json, indent=2))"
   ]
  }
 ],
 "metadata": {
  "kernelspec": {
   "display_name": "aquawar",
   "language": "python",
   "name": "python3"
  },
  "language_info": {
   "codemirror_mode": {
    "name": "ipython",
    "version": 3
   },
   "file_extension": ".py",
   "mimetype": "text/x-python",
   "name": "python",
   "nbconvert_exporter": "python",
   "pygments_lexer": "ipython3",
   "version": "3.13.5"
  }
 },
 "nbformat": 4,
 "nbformat_minor": 5
}
