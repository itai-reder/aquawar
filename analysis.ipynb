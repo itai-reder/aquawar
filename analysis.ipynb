{
 "cells": [
  {
   "cell_type": "code",
   "execution_count": 1,
   "id": "302553c3",
   "metadata": {},
   "outputs": [],
   "source": [
    "import numpy as np\n",
    "import pandas as pd\n",
    "import pickle as pkl"
   ]
  },
  {
   "cell_type": "code",
   "execution_count": 2,
   "id": "755d1869",
   "metadata": {},
   "outputs": [],
   "source": [
    "DATA_DIR = \"aquawar/tourney_saves\""
   ]
  },
  {
   "cell_type": "code",
   "execution_count": 3,
   "id": "96d614a4",
   "metadata": {},
   "outputs": [],
   "source": [
    "def hitory_entailment(data):\n",
    "    for turn in data['history']:\n",
    "        print(f'Player: {turn[\"player\"]}, Game turn: {turn[\"game_turn\"]}, Player turn: {turn[\"player_turn\"]}, move: {turn[\"move\"]} attempt {turn[\"attempt\"]}')\n",
    "        \n",
    "#hitory_entailment(data)"
   ]
  },
  {
   "cell_type": "code",
   "execution_count": 4,
   "id": "0ac3afed",
   "metadata": {},
   "outputs": [],
   "source": [
    "def extract_winner(data):\n",
    "    if data['evaluation']['players']['1']['current_hp'] > data['evaluation']['players']['2']['current_hp']:\n",
    "        return 1\n",
    "    return 2\n",
    "\n",
    "#extract_winner(data)"
   ]
  },
  {
   "cell_type": "code",
   "execution_count": 5,
   "id": "7035b723",
   "metadata": {},
   "outputs": [],
   "source": [
    "def extract_validity(data):\n",
    "    eval = data['evaluation']\n",
    "    return {player:eval['players'][player]['invalid_moves']['total'] for player in eval['players']}\n",
    "\n",
    "#extract_validity(data)"
   ]
  },
  {
   "cell_type": "code",
   "execution_count": 6,
   "id": "15834d43",
   "metadata": {},
   "outputs": [],
   "source": [
    "def extract_status(data):\n",
    "    return data['evaluation']['game_status']"
   ]
  },
  {
   "cell_type": "code",
   "execution_count": 7,
   "id": "352d136a",
   "metadata": {},
   "outputs": [],
   "source": [
    "def extract_players(data):\n",
    "    players = data['players']\n",
    "    return {player: players[player][0]['name'] if type(players[player]) == list else players[player]['name'] for player in players.keys()}\n",
    "\n",
    "#extract_players(data)"
   ]
  },
  {
   "cell_type": "code",
   "execution_count": 44,
   "id": "b0daf7fd",
   "metadata": {},
   "outputs": [],
   "source": [
    "\n",
    "import os\n",
    "\n",
    "def aggregate_results(directory):\n",
    "    results = pd.DataFrame(columns=['player_1', 'player_2','p1_invalid_moves', 'p2_invalid_moves', 'winner', 'conclusion'])\n",
    "    for root, dirs, files in os.walk(directory):\n",
    "        for file in files:\n",
    "            if file == 'latest.pkl':\n",
    "                file_path = os.path.join(root, file)\n",
    "                data = pkl.load(open(file_path, \"rb\"))\n",
    "                row = {}\n",
    "                players = extract_players(data)\n",
    "                row['player_1'] = players['1']\n",
    "                row['player_2'] = players['2']\n",
    "                \n",
    "                validity = extract_validity(data)\n",
    "                row['p1_invalid_moves'] = validity['1']\n",
    "                row['p2_invalid_moves'] = validity['2']\n",
    "\n",
    "                winner = extract_winner(data)\n",
    "                row['winner'] = winner\n",
    "\n",
    "                conclusion = extract_status(data)\n",
    "                row['conclusion'] = conclusion\n",
    "\n",
    "                row['fatal'] = data['history'] == []\n",
    "                \n",
    "                results = pd.concat((results, pd.DataFrame(row, index=[0])), ignore_index=True)\n",
    "    return results\n",
    "\n",
    "# Example usage:\n",
    "results = aggregate_results(DATA_DIR)"
   ]
  },
  {
   "cell_type": "code",
   "execution_count": 9,
   "id": "9450cd8e",
   "metadata": {},
   "outputs": [],
   "source": [
    "results.loc[results['conclusion'] == 'error', 'winner'] = 0"
   ]
  },
  {
   "cell_type": "code",
   "execution_count": 45,
   "id": "542d378c",
   "metadata": {},
   "outputs": [
    {
     "data": {
      "text/html": [
       "<div>\n",
       "<style scoped>\n",
       "    .dataframe tbody tr th:only-of-type {\n",
       "        vertical-align: middle;\n",
       "    }\n",
       "\n",
       "    .dataframe tbody tr th {\n",
       "        vertical-align: top;\n",
       "    }\n",
       "\n",
       "    .dataframe thead th {\n",
       "        text-align: right;\n",
       "    }\n",
       "</style>\n",
       "<table border=\"1\" class=\"dataframe\">\n",
       "  <thead>\n",
       "    <tr style=\"text-align: right;\">\n",
       "      <th></th>\n",
       "      <th>player_1</th>\n",
       "      <th>player_2</th>\n",
       "      <th>p1_invalid_moves</th>\n",
       "      <th>p2_invalid_moves</th>\n",
       "      <th>winner</th>\n",
       "      <th>conclusion</th>\n",
       "      <th>fatal</th>\n",
       "    </tr>\n",
       "  </thead>\n",
       "  <tbody>\n",
       "    <tr>\n",
       "      <th>0</th>\n",
       "      <td>gpt-oss:20b (Majority 3)</td>\n",
       "      <td>gpt-oss:20b (Majority 5)</td>\n",
       "      <td>0</td>\n",
       "      <td>0</td>\n",
       "      <td>2</td>\n",
       "      <td>error</td>\n",
       "      <td>True</td>\n",
       "    </tr>\n",
       "    <tr>\n",
       "      <th>1</th>\n",
       "      <td>gpt-oss:20b (Majority 3)</td>\n",
       "      <td>gpt-oss:20b (Majority 5)</td>\n",
       "      <td>0</td>\n",
       "      <td>0</td>\n",
       "      <td>2</td>\n",
       "      <td>error</td>\n",
       "      <td>True</td>\n",
       "    </tr>\n",
       "    <tr>\n",
       "      <th>2</th>\n",
       "      <td>gpt-oss:20b (Majority 3)</td>\n",
       "      <td>llama3.1:8b (Majority 5)</td>\n",
       "      <td>0</td>\n",
       "      <td>0</td>\n",
       "      <td>2</td>\n",
       "      <td>error</td>\n",
       "      <td>True</td>\n",
       "    </tr>\n",
       "    <tr>\n",
       "      <th>3</th>\n",
       "      <td>gpt-oss:20b (Majority 3)</td>\n",
       "      <td>llama3.1:8b (Majority 5)</td>\n",
       "      <td>0</td>\n",
       "      <td>0</td>\n",
       "      <td>2</td>\n",
       "      <td>error</td>\n",
       "      <td>True</td>\n",
       "    </tr>\n",
       "    <tr>\n",
       "      <th>4</th>\n",
       "      <td>gpt-oss:20b (Majority 3)</td>\n",
       "      <td>mistral-nemo:12b (Majority 5)</td>\n",
       "      <td>0</td>\n",
       "      <td>0</td>\n",
       "      <td>2</td>\n",
       "      <td>error</td>\n",
       "      <td>True</td>\n",
       "    </tr>\n",
       "    <tr>\n",
       "      <th>...</th>\n",
       "      <td>...</td>\n",
       "      <td>...</td>\n",
       "      <td>...</td>\n",
       "      <td>...</td>\n",
       "      <td>...</td>\n",
       "      <td>...</td>\n",
       "      <td>...</td>\n",
       "    </tr>\n",
       "    <tr>\n",
       "      <th>115</th>\n",
       "      <td>qwen3:14b (Single 5)</td>\n",
       "      <td>llama3.1:8b (Majority 5)</td>\n",
       "      <td>5</td>\n",
       "      <td>0</td>\n",
       "      <td>2</td>\n",
       "      <td>error</td>\n",
       "      <td>False</td>\n",
       "    </tr>\n",
       "    <tr>\n",
       "      <th>116</th>\n",
       "      <td>qwen3:14b (Single 5)</td>\n",
       "      <td>mistral-nemo:12b (Majority 5)</td>\n",
       "      <td>5</td>\n",
       "      <td>0</td>\n",
       "      <td>2</td>\n",
       "      <td>error</td>\n",
       "      <td>False</td>\n",
       "    </tr>\n",
       "    <tr>\n",
       "      <th>117</th>\n",
       "      <td>qwen3:14b (Single 5)</td>\n",
       "      <td>mistral-nemo:12b (Majority 5)</td>\n",
       "      <td>5</td>\n",
       "      <td>0</td>\n",
       "      <td>2</td>\n",
       "      <td>error</td>\n",
       "      <td>False</td>\n",
       "    </tr>\n",
       "    <tr>\n",
       "      <th>118</th>\n",
       "      <td>qwen3:14b (Single 5)</td>\n",
       "      <td>qwen3:14b (Majority 5)</td>\n",
       "      <td>5</td>\n",
       "      <td>0</td>\n",
       "      <td>2</td>\n",
       "      <td>error</td>\n",
       "      <td>False</td>\n",
       "    </tr>\n",
       "    <tr>\n",
       "      <th>119</th>\n",
       "      <td>qwen3:14b (Single 5)</td>\n",
       "      <td>qwen3:14b (Majority 5)</td>\n",
       "      <td>5</td>\n",
       "      <td>0</td>\n",
       "      <td>2</td>\n",
       "      <td>error</td>\n",
       "      <td>False</td>\n",
       "    </tr>\n",
       "  </tbody>\n",
       "</table>\n",
       "<p>120 rows × 7 columns</p>\n",
       "</div>"
      ],
      "text/plain": [
       "                     player_1                       player_2 p1_invalid_moves  \\\n",
       "0    gpt-oss:20b (Majority 3)       gpt-oss:20b (Majority 5)                0   \n",
       "1    gpt-oss:20b (Majority 3)       gpt-oss:20b (Majority 5)                0   \n",
       "2    gpt-oss:20b (Majority 3)       llama3.1:8b (Majority 5)                0   \n",
       "3    gpt-oss:20b (Majority 3)       llama3.1:8b (Majority 5)                0   \n",
       "4    gpt-oss:20b (Majority 3)  mistral-nemo:12b (Majority 5)                0   \n",
       "..                        ...                            ...              ...   \n",
       "115      qwen3:14b (Single 5)       llama3.1:8b (Majority 5)                5   \n",
       "116      qwen3:14b (Single 5)  mistral-nemo:12b (Majority 5)                5   \n",
       "117      qwen3:14b (Single 5)  mistral-nemo:12b (Majority 5)                5   \n",
       "118      qwen3:14b (Single 5)         qwen3:14b (Majority 5)                5   \n",
       "119      qwen3:14b (Single 5)         qwen3:14b (Majority 5)                5   \n",
       "\n",
       "    p2_invalid_moves winner conclusion  fatal  \n",
       "0                  0      2      error   True  \n",
       "1                  0      2      error   True  \n",
       "2                  0      2      error   True  \n",
       "3                  0      2      error   True  \n",
       "4                  0      2      error   True  \n",
       "..               ...    ...        ...    ...  \n",
       "115                0      2      error  False  \n",
       "116                0      2      error  False  \n",
       "117                0      2      error  False  \n",
       "118                0      2      error  False  \n",
       "119                0      2      error  False  \n",
       "\n",
       "[120 rows x 7 columns]"
      ]
     },
     "execution_count": 45,
     "metadata": {},
     "output_type": "execute_result"
    }
   ],
   "source": [
    "results"
   ]
  },
  {
   "cell_type": "code",
   "execution_count": 46,
   "id": "2b977085",
   "metadata": {},
   "outputs": [],
   "source": [
    "# Group by player_1 and player_2, then count conclusions and fatal\n",
    "summary = results.groupby(['player_1', 'player_2']).agg(\n",
    "    completed_count=('conclusion', lambda x: (x == 'completed').sum()),\n",
    "    error_count=('conclusion', lambda x: (x == 'error').sum()),\n",
    "    fatal_count=('fatal', lambda x: (x == True).sum())\n",
    ").reset_index()\n",
    "summary.to_csv('aquawar_summary.csv', index=False)"
   ]
  },
  {
   "cell_type": "code",
   "execution_count": 75,
   "id": "4b3ca232",
   "metadata": {},
   "outputs": [],
   "source": [
    "import regex as re\n",
    "\n",
    "en_size = re.compile(r'\\(\\w+\\s\\d\\)')\n",
    "\n",
    "summary['ensamble_size'] = summary['player_1'].apply(lambda x: re.findall(en_size, x)[0]) "
   ]
  },
  {
   "cell_type": "code",
   "execution_count": 72,
   "id": "a67a6fd9",
   "metadata": {},
   "outputs": [
    {
     "data": {
      "text/html": [
       "<div>\n",
       "<style scoped>\n",
       "    .dataframe tbody tr th:only-of-type {\n",
       "        vertical-align: middle;\n",
       "    }\n",
       "\n",
       "    .dataframe tbody tr th {\n",
       "        vertical-align: top;\n",
       "    }\n",
       "\n",
       "    .dataframe thead th {\n",
       "        text-align: right;\n",
       "    }\n",
       "</style>\n",
       "<table border=\"1\" class=\"dataframe\">\n",
       "  <thead>\n",
       "    <tr style=\"text-align: right;\">\n",
       "      <th></th>\n",
       "      <th>ensamble_size</th>\n",
       "      <th>fatal_count</th>\n",
       "      <th>completed_games</th>\n",
       "      <th>error_games</th>\n",
       "    </tr>\n",
       "  </thead>\n",
       "  <tbody>\n",
       "    <tr>\n",
       "      <th>0</th>\n",
       "      <td>(Majority 3)</td>\n",
       "      <td>32</td>\n",
       "      <td>0</td>\n",
       "      <td>32</td>\n",
       "    </tr>\n",
       "    <tr>\n",
       "      <th>1</th>\n",
       "      <td>(Single 3)</td>\n",
       "      <td>0</td>\n",
       "      <td>46</td>\n",
       "      <td>10</td>\n",
       "    </tr>\n",
       "    <tr>\n",
       "      <th>2</th>\n",
       "      <td>(Single 5)</td>\n",
       "      <td>0</td>\n",
       "      <td>0</td>\n",
       "      <td>32</td>\n",
       "    </tr>\n",
       "  </tbody>\n",
       "</table>\n",
       "</div>"
      ],
      "text/plain": [
       "  ensamble_size  fatal_count  completed_games  error_games\n",
       "0  (Majority 3)           32                0           32\n",
       "1    (Single 3)            0               46           10\n",
       "2    (Single 5)            0                0           32"
      ]
     },
     "execution_count": 72,
     "metadata": {},
     "output_type": "execute_result"
    }
   ],
   "source": [
    "# Aggregate by ensamble_size and count fatal occurrences\n",
    "ensamble_summary = summary.groupby('ensamble_size').agg(\n",
    "    fatal_count=('fatal_count', 'sum'),\n",
    "    completed_games=('completed_count', 'sum'),\n",
    "    error_games=('error_count', 'sum')\n",
    ").reset_index()\n",
    "ensamble_summary"
   ]
  },
  {
   "cell_type": "code",
   "execution_count": 79,
   "id": "a714e52f",
   "metadata": {},
   "outputs": [],
   "source": [
    "\n",
    "\n",
    "#path = path.replace\n",
    "\n",
    "data = pkl.load(open(\"aquawar\\\\tourney_saves\\\\gpt-oss_20b_S5\\\\llama3.1_8b_M5\\\\round_001\\\\latest.pkl\", \"rb\"))"
   ]
  },
  {
   "cell_type": "code",
   "execution_count": 80,
   "id": "388ae59e",
   "metadata": {},
   "outputs": [
    {
     "name": "stdout",
     "output_type": "stream",
     "text": [
      "Player: 1, Game turn: 1, Player turn: 1, move: Error: [Errno 111] Connection refused attempt 1\n",
      "Player: 1, Game turn: 2, Player turn: 1, move: Error: [Errno 111] Connection refused attempt 1\n",
      "Player: 1, Game turn: 3, Player turn: 1, move: Error: [Errno 111] Connection refused attempt 1\n",
      "Player: 1, Game turn: 4, Player turn: 1, move: Error: [Errno 111] Connection refused attempt 1\n",
      "Player: 1, Game turn: 5, Player turn: 1, move: Error: [Errno 111] Connection refused attempt 1\n"
     ]
    }
   ],
   "source": [
    "hitory_entailment(data)"
   ]
  },
  {
   "cell_type": "code",
   "execution_count": 37,
   "id": "608f7ebb",
   "metadata": {},
   "outputs": [
    {
     "data": {
      "text/plain": [
       "[]"
      ]
     },
     "execution_count": 37,
     "metadata": {},
     "output_type": "execute_result"
    }
   ],
   "source": [
    "data['history']"
   ]
  },
  {
   "cell_type": "code",
   "execution_count": 33,
   "id": "4a273712",
   "metadata": {},
   "outputs": [
    {
     "data": {
      "text/plain": [
       "{'players': {'1': {'current_hp': 1600,\n",
       "   'damage_dealt': 0,\n",
       "   'damage_taken': 0,\n",
       "   'assertions': {'true': 0, 'false': 0, 'skipped': 0},\n",
       "   'invalid_moves': {'total': 0,\n",
       "    'by_type': {'invalid_response': 0,\n",
       "     'invalid_parameter': 0,\n",
       "     'invalid_action': 0}}},\n",
       "  '2': {'current_hp': 1600,\n",
       "   'damage_dealt': 0,\n",
       "   'damage_taken': 0,\n",
       "   'assertions': {'true': 0, 'false': 0, 'skipped': 0},\n",
       "   'invalid_moves': {'total': 0,\n",
       "    'by_type': {'invalid_response': 0,\n",
       "     'invalid_parameter': 0,\n",
       "     'invalid_action': 0}}}},\n",
       " 'game_status': 'error'}"
      ]
     },
     "execution_count": 33,
     "metadata": {},
     "output_type": "execute_result"
    }
   ],
   "source": [
    "data['evaluation']"
   ]
  },
  {
   "cell_type": "code",
   "execution_count": 41,
   "id": "e6ef1801",
   "metadata": {},
   "outputs": [],
   "source": [
    "results[results['conclusion']== 'error'].to_csv('aquawar_error_games.csv', index=False)"
   ]
  }
 ],
 "metadata": {
  "kernelspec": {
   "display_name": "Python 3",
   "language": "python",
   "name": "python3"
  },
  "language_info": {
   "codemirror_mode": {
    "name": "ipython",
    "version": 3
   },
   "file_extension": ".py",
   "mimetype": "text/x-python",
   "name": "python",
   "nbconvert_exporter": "python",
   "pygments_lexer": "ipython3",
   "version": "3.11.9"
  }
 },
 "nbformat": 4,
 "nbformat_minor": 5
}
